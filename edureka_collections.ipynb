{
 "cells": [
  {
   "cell_type": "markdown",
   "id": "c35d432e-394a-4cf5-9516-768f9cc96140",
   "metadata": {},
   "source": [
    "# Collections\n",
    "`namedtuple()`  \n",
    "`deque()`  \n",
    "`Chainmap()`  \n",
    "`Counter`  \n",
    "`OrderedDict()`  \n",
    "`defaultdict()`  \n",
    "`UserDict`  \n",
    "`UserList`  \n",
    "`UserString`  "
   ]
  },
  {
   "cell_type": "code",
   "execution_count": 1,
   "id": "50d74c5c-3bd8-4418-bc8a-eb6e618a446a",
   "metadata": {},
   "outputs": [],
   "source": [
    "from collections import namedtuple"
   ]
  },
  {
   "cell_type": "code",
   "execution_count": 5,
   "id": "3b6af543-949f-4093-80b0-0382f89620ac",
   "metadata": {},
   "outputs": [
    {
     "name": "stdout",
     "output_type": "stream",
     "text": [
      "courses(name='data science', technology='Python')\n"
     ]
    }
   ],
   "source": [
    "\"\"\"\n",
    "namedtuple()\n",
    "\n",
    "\"\"\"\n",
    "a = namedtuple(\"courses\", \"name, technology\")\n",
    "b = a(\"data science\", \"Python\")\n",
    "print(b)"
   ]
  },
  {
   "cell_type": "code",
   "execution_count": 7,
   "id": "d61bd93f-5d11-4af7-b47b-7ddd037b43e7",
   "metadata": {},
   "outputs": [
    {
     "name": "stdout",
     "output_type": "stream",
     "text": [
      "<class 'type'>\n",
      "<class '__main__.courses'>\n"
     ]
    }
   ],
   "source": [
    "print(type(a))\n",
    "print(type(b))"
   ]
  },
  {
   "cell_type": "code",
   "execution_count": 9,
   "id": "2c9fc556-2f2d-457c-b4f4-69cdfeddeeba",
   "metadata": {},
   "outputs": [
    {
     "name": "stdout",
     "output_type": "stream",
     "text": [
      "courses(name='data science', technology='Python') courses(name='artificial intelligence', technology='Python')\n"
     ]
    }
   ],
   "source": [
    "c = a._make([\"artificial intelligence\", \"Python\"])\n",
    "print(b, c)"
   ]
  },
  {
   "cell_type": "code",
   "execution_count": 11,
   "id": "7d88072e-94f7-48aa-ab63-97942c740efc",
   "metadata": {},
   "outputs": [
    {
     "name": "stdout",
     "output_type": "stream",
     "text": [
      "deque(['J', 'u', 'l', 'i', 'o'])\n"
     ]
    }
   ],
   "source": [
    "\"\"\"\n",
    "deque()\n",
    "    It is an optimized list to perform insertion and deletion easily.\n",
    "\"\"\"\n",
    "from collections import deque\n",
    "\n",
    "a = [\"J\", \"u\", \"l\", \"i\", \"o\"]\n",
    "d = deque(a)\n",
    "print(d)"
   ]
  },
  {
   "cell_type": "code",
   "execution_count": 13,
   "id": "b7073af4-eed4-4cd2-a043-f3a52663a2ff",
   "metadata": {},
   "outputs": [
    {
     "name": "stdout",
     "output_type": "stream",
     "text": [
      "deque(['J', 'u', 'l', 'i', 'o', 'Briones', 'Briones'])\n"
     ]
    }
   ],
   "source": [
    "d.append(\"Briones\")\n",
    "print(d)"
   ]
  },
  {
   "cell_type": "code",
   "execution_count": 14,
   "id": "8a9421c4-8625-44d1-be67-50c56088defe",
   "metadata": {},
   "outputs": [
    {
     "name": "stdout",
     "output_type": "stream",
     "text": [
      "deque(['Mr.', 'J', 'u', 'l', 'i', 'o', 'Briones', 'Briones'])\n"
     ]
    }
   ],
   "source": [
    "d.appendleft(\"Mr.\")\n",
    "print(d)"
   ]
  },
  {
   "cell_type": "code",
   "execution_count": 15,
   "id": "ba090414-a0cd-4320-9ffc-743a2d7327bf",
   "metadata": {},
   "outputs": [
    {
     "data": {
      "text/plain": [
       "'Briones'"
      ]
     },
     "execution_count": 15,
     "metadata": {},
     "output_type": "execute_result"
    }
   ],
   "source": [
    "d.pop()"
   ]
  },
  {
   "cell_type": "code",
   "execution_count": 16,
   "id": "9f07ca2e-bdcf-4328-bc5a-73a21cd9c129",
   "metadata": {},
   "outputs": [
    {
     "name": "stdout",
     "output_type": "stream",
     "text": [
      "deque(['Mr.', 'J', 'u', 'l', 'i', 'o', 'Briones'])\n"
     ]
    }
   ],
   "source": [
    "print(d)"
   ]
  },
  {
   "cell_type": "code",
   "execution_count": 17,
   "id": "c8042da6-8321-4ad7-8c11-1ec234843968",
   "metadata": {},
   "outputs": [
    {
     "name": "stdout",
     "output_type": "stream",
     "text": [
      "deque(['J', 'u', 'l', 'i', 'o', 'Briones'])\n"
     ]
    }
   ],
   "source": [
    "d.popleft()\n",
    "print(d)"
   ]
  },
  {
   "cell_type": "code",
   "execution_count": 21,
   "id": "85ea1b59-2797-4f0b-9069-f7ea33ec4fce",
   "metadata": {},
   "outputs": [
    {
     "name": "stdout",
     "output_type": "stream",
     "text": [
      "ChainMap({1: 'edureka', 2: 'Python'}, {3: 'web development', 4: 'DevOps'})\n"
     ]
    }
   ],
   "source": [
    "from collections import ChainMap\n",
    "\"\"\"\n",
    "ChainMap()\n",
    "    It is a dictionary like class for creating a single view of multiple mappings.\n",
    "\"\"\"\n",
    "a = {1: \"edureka\", 2: \"Python\"}\n",
    "b = {3: \"web development\", 4: \"DevOps\"}\n",
    "c = ChainMap(a, b)\n",
    "print(c)"
   ]
  },
  {
   "cell_type": "code",
   "execution_count": 24,
   "id": "e7dbfc28-a530-4d82-b4ba-23e7a249099b",
   "metadata": {},
   "outputs": [
    {
     "name": "stdout",
     "output_type": "stream",
     "text": [
      "Counter({1: 4, 2: 4, 3: 2, 7: 2, 4: 1, 5: 1, 6: 1})\n"
     ]
    }
   ],
   "source": [
    "from collections import Counter\n",
    "\"\"\"\n",
    "Counter()\n",
    "    It is a dictionary subclass for counting hashable objects.\n",
    "\"\"\"\n",
    "a = [1, 2, 1, 2, 1, 2, 3, 4, 5, 6, 7, 2, 1, 3, 7]\n",
    "b = Counter(a)\n",
    "print(b)"
   ]
  },
  {
   "cell_type": "code",
   "execution_count": 29,
   "id": "3f7071bc-3ee4-4502-82ed-b5426478d874",
   "metadata": {},
   "outputs": [
    {
     "name": "stdout",
     "output_type": "stream",
     "text": [
      "[1, 1, 1, 1, 2, 2, 2, 2, 3, 3, 4, 5, 6, 7, 7]\n",
      "[1, 1, 1, 1, 2, 2, 2, 2, 3, 3, 4, 5, 6, 7, 7]\n"
     ]
    }
   ],
   "source": [
    "print(sorted(b.elements()))  # No need for the sorted since the code below returns it ordered.\n",
    "print(list(b.elements()))"
   ]
  },
  {
   "cell_type": "code",
   "execution_count": 26,
   "id": "14526a2e-33f3-4576-847a-a85a38f77a20",
   "metadata": {},
   "outputs": [
    {
     "name": "stdout",
     "output_type": "stream",
     "text": [
      "[(1, 4), (2, 4), (3, 2), (7, 2), (4, 1), (5, 1), (6, 1)]\n"
     ]
    }
   ],
   "source": [
    "print(b.most_common())"
   ]
  },
  {
   "cell_type": "code",
   "execution_count": 27,
   "id": "46b36aba-5841-485e-8976-9294f842ab39",
   "metadata": {},
   "outputs": [
    {
     "name": "stdout",
     "output_type": "stream",
     "text": [
      "15\n"
     ]
    }
   ],
   "source": [
    "print(b.total())"
   ]
  },
  {
   "cell_type": "code",
   "execution_count": 30,
   "id": "abc4a886-2def-4318-bbc4-fa1bca9e66a1",
   "metadata": {},
   "outputs": [
    {
     "name": "stdout",
     "output_type": "stream",
     "text": [
      "None\n",
      "[(1, 4), (2, 3), (3, 2), (7, 2), (4, 1), (5, 1), (6, 0)]\n"
     ]
    }
   ],
   "source": [
    "sub = {2:1, 6:1}\n",
    "print(b.subtract(sub))\n",
    "print(b.most_common())  # [(1, 4), (2, 3), (3, 2), (7, 2), (4, 1), (5, 1), (6, 0)]"
   ]
  },
  {
   "cell_type": "code",
   "execution_count": 32,
   "id": "1483ecf2-1bd3-483b-adb5-08f8a79c5ae4",
   "metadata": {},
   "outputs": [
    {
     "name": "stdout",
     "output_type": "stream",
     "text": [
      "OrderedDict([('a', 2), ('b', 1), ('c', 3)])\n"
     ]
    }
   ],
   "source": [
    "from collections import OrderedDict\n",
    "\"\"\"\n",
    "OrderedDict()\n",
    "    It is a dictionary subclass which remembers the order in which the entries were done.\n",
    "\"\"\"\n",
    "\n",
    "od = OrderedDict()\n",
    "od[\"a\"] = 2\n",
    "od[\"b\"] = 1\n",
    "od[\"c\"] = 3\n",
    "print(od)"
   ]
  },
  {
   "cell_type": "code",
   "execution_count": 37,
   "id": "6f49de0a-2eb8-4fc7-bbfc-aa2c1068ff41",
   "metadata": {},
   "outputs": [
    {
     "name": "stdout",
     "output_type": "stream",
     "text": [
      "OrderedDict([(1, 'J'), (2, 'u'), (3, 'l'), (4, 'i'), (5, 'o')])\n",
      "odict_keys([1, 2, 3, 4, 5])\n",
      "odict_values(['J', 'u', 'l', 'i', 'o'])\n",
      "J\n",
      "odict_items([(1, 'J'), (2, 'u'), (3, 'l'), (4, 'i'), (5, 'o')])\n"
     ]
    }
   ],
   "source": [
    "d = OrderedDict()\n",
    "d[1] = \"J\"\n",
    "d[2] = \"u\"\n",
    "d[3] = \"l\"\n",
    "d[4] = \"i\"\n",
    "d[5] = \"o\"\n",
    "print(d)\n",
    "print(d.keys())\n",
    "print(d.values())\n",
    "print(d.get(1))\n",
    "print(d.items())"
   ]
  },
  {
   "cell_type": "code",
   "execution_count": 43,
   "id": "a544b396-9be3-41da-ad60-e1c4481bf6cd",
   "metadata": {},
   "outputs": [
    {
     "name": "stdout",
     "output_type": "stream",
     "text": [
      "0\n",
      "1\n"
     ]
    }
   ],
   "source": [
    "from collections import defaultdict\n",
    "\"\"\"\n",
    "defaultdict()\n",
    "    It is a dictionary subclass which calls a factory function to supply missing values.\n",
    "\"\"\"\n",
    "d = defaultdict(int)\n",
    "d[\"python\"] = 1\n",
    "d[\"golang\"] = 2\n",
    "print(d[\"java\"])\n",
    "print(d.get(\"python\"))"
   ]
  },
  {
   "cell_type": "code",
   "execution_count": 44,
   "id": "d50468e7-150c-48a6-bc1e-a49d69a6cddf",
   "metadata": {},
   "outputs": [
    {
     "name": "stdout",
     "output_type": "stream",
     "text": [
      "\n"
     ]
    }
   ],
   "source": [
    "d2 = {\"python\": 1, \"golang\": 2}\n",
    "print(d2.get(\"java\", \"\"))"
   ]
  },
  {
   "cell_type": "code",
   "execution_count": null,
   "id": "7e1db26c-7a81-4932-ae5e-fb7923e61a3d",
   "metadata": {},
   "outputs": [],
   "source": [
    "from collections import (UserDict, UserList, UserString)\n",
    "\"\"\"\n",
    "UserDict()\n",
    "    Acts as a wrapper around dictionary objects for easier dictionary sub-classing.\n",
    "    \n",
    "UserList()\n",
    "    Acts as a wrapper around list objects for easier sub-classing. \n",
    "\n",
    "UserString()\n",
    "    Acts as a wrapper around string objects for easier string sub-classing.\n",
    "\"\"\""
   ]
  }
 ],
 "metadata": {
  "kernelspec": {
   "display_name": "Python 3 (ipykernel)",
   "language": "python",
   "name": "python3"
  },
  "language_info": {
   "codemirror_mode": {
    "name": "ipython",
    "version": 3
   },
   "file_extension": ".py",
   "mimetype": "text/x-python",
   "name": "python",
   "nbconvert_exporter": "python",
   "pygments_lexer": "ipython3",
   "version": "3.10.4"
  }
 },
 "nbformat": 4,
 "nbformat_minor": 5
}
