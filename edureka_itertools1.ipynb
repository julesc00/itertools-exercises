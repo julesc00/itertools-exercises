{
 "cells": [
  {
   "cell_type": "markdown",
   "id": "619e391c-b03e-45ce-83a7-2f504bfb32a4",
   "metadata": {},
   "source": [
    "# 01 - itertools"
   ]
  },
  {
   "cell_type": "code",
   "execution_count": 5,
   "id": "c0e26700-bfb2-4ad4-bafa-be07ca263622",
   "metadata": {},
   "outputs": [],
   "source": [
    "from itertools import *"
   ]
  },
  {
   "cell_type": "code",
   "execution_count": 1,
   "id": "a55cbdf1-0988-4031-bf13-2d7348950456",
   "metadata": {},
   "outputs": [],
   "source": [
    "a = [1, 2, 3, 4, 5, 6]"
   ]
  },
  {
   "cell_type": "code",
   "execution_count": 2,
   "id": "7a142da4-f5d2-4a0d-9d02-7c888064bda5",
   "metadata": {},
   "outputs": [],
   "source": [
    "# I convert the list to an iterator with the iter() method. \n",
    "b = iter(a)"
   ]
  },
  {
   "cell_type": "code",
   "execution_count": 12,
   "id": "e14695c2-e422-4422-aa76-64917dce2a83",
   "metadata": {},
   "outputs": [
    {
     "ename": "StopIteration",
     "evalue": "",
     "output_type": "error",
     "traceback": [
      "\u001b[0;31m---------------------------------------------------------------------------\u001b[0m",
      "\u001b[0;31mStopIteration\u001b[0m                             Traceback (most recent call last)",
      "Input \u001b[0;32mIn [12]\u001b[0m, in \u001b[0;36m<cell line: 2>\u001b[0;34m()\u001b[0m\n\u001b[1;32m      1\u001b[0m \u001b[38;5;66;03m# This is a way to iterate one by one item.\u001b[39;00m\n\u001b[0;32m----> 2\u001b[0m \u001b[38;5;28;43mnext\u001b[39;49m\u001b[43m(\u001b[49m\u001b[43mb\u001b[49m\u001b[43m)\u001b[49m\n",
      "\u001b[0;31mStopIteration\u001b[0m: "
     ]
    }
   ],
   "source": [
    "# This is a way to iterate one by one item.\n",
    "next(b)\n",
    "# When the iteration finishes, it returns this Traceback error."
   ]
  },
  {
   "cell_type": "code",
   "execution_count": 3,
   "id": "cc8a1ac5-da76-4cb4-a2b4-cf09d420f103",
   "metadata": {},
   "outputs": [
    {
     "name": "stdout",
     "output_type": "stream",
     "text": [
      "1\n",
      "2\n",
      "3\n",
      "4\n",
      "5\n",
      "6\n"
     ]
    }
   ],
   "source": [
    "# Or iterate via a for loop\n",
    "for i in b:\n",
    "    print(i)"
   ]
  },
  {
   "cell_type": "markdown",
   "id": "98c83b4d-dd18-489d-b846-dd9f3a25b437",
   "metadata": {},
   "source": [
    "# 02 What is itertools\n",
    "---\n",
    "\n",
    "## Categories\n",
    "### Infinite Iterators \n",
    "`count()`  \n",
    "`cycle()`  \n",
    "`repeat()`   \n",
    "\n",
    "### Iterators terminating on the shortest input sequence. \n",
    "`accumulate()`\n",
    "\n",
    "### Combinatoric Iterators"
   ]
  },
  {
   "cell_type": "code",
   "execution_count": 2,
   "id": "d6423ddd-32b8-4dc6-bd44-c830bdb60617",
   "metadata": {},
   "outputs": [
    {
     "name": "stdout",
     "output_type": "stream",
     "text": [
      "0\n",
      "2\n",
      "4\n",
      "6\n",
      "8\n",
      "10\n",
      "12\n",
      "14\n",
      "16\n",
      "18\n"
     ]
    }
   ],
   "source": [
    "# count() - Infinite iterator\n",
    "\n",
    "a = count(0, 2)\n",
    "d = 1\n",
    "\n",
    "for i in a:\n",
    "    if d > 10:\n",
    "        break\n",
    "    else:\n",
    "        print(i)\n",
    "    d += 1"
   ]
  },
  {
   "cell_type": "code",
   "execution_count": 7,
   "id": "ffc701b8-16e1-49fc-bf86-cf08187c3a92",
   "metadata": {},
   "outputs": [],
   "source": [
    "# cycle() - Returns a copy of elements from the iterator. It only takes the iterator as the parameter\n",
    "a = cycle([1, 2, 3, 4, 5])"
   ]
  },
  {
   "cell_type": "code",
   "execution_count": 11,
   "id": "bbb9b75f-6155-465c-bcb2-2bb02c185b50",
   "metadata": {},
   "outputs": [
    {
     "name": "stdout",
     "output_type": "stream",
     "text": [
      "4\n",
      "5\n",
      "1\n",
      "2\n",
      "3\n",
      "4\n",
      "5\n",
      "1\n",
      "2\n",
      "3\n"
     ]
    }
   ],
   "source": [
    "d = 1\n",
    "for i in a:\n",
    "    if d > 10:\n",
    "        break\n",
    "    else:\n",
    "        print(i)\n",
    "    d += 1"
   ]
  },
  {
   "cell_type": "code",
   "execution_count": 17,
   "id": "adb88cc8-f752-4edc-ae65-1635cc103fac",
   "metadata": {},
   "outputs": [
    {
     "name": "stdout",
     "output_type": "stream",
     "text": [
      "10\n",
      "10\n",
      "10\n",
      "********************\n"
     ]
    }
   ],
   "source": [
    "# repeat() - Note: Once the iterator is used, it is recycled, it'll have to be redeclared if willing to use it again.\n",
    "a = repeat(10, 3)\n",
    "for i in a:\n",
    "    print(i)\n",
    "print(\"*\" * 20)"
   ]
  },
  {
   "cell_type": "code",
   "execution_count": 20,
   "id": "d05687f6-712d-4d95-9f2c-8ac2b306f9c3",
   "metadata": {},
   "outputs": [],
   "source": [
    "a = repeat(10)"
   ]
  },
  {
   "cell_type": "code",
   "execution_count": 21,
   "id": "5be88d09-9b33-490a-910c-445a73194df0",
   "metadata": {},
   "outputs": [
    {
     "name": "stdout",
     "output_type": "stream",
     "text": [
      "10\n",
      "10\n",
      "10\n",
      "10\n",
      "10\n",
      "10\n",
      "10\n",
      "10\n",
      "10\n",
      "10\n"
     ]
    }
   ],
   "source": [
    "d = 1\n",
    "for i in a:\n",
    "    if d > 10:\n",
    "        break\n",
    "    else:\n",
    "        print(i)\n",
    "    d += 1"
   ]
  },
  {
   "cell_type": "code",
   "execution_count": 22,
   "id": "8139000b-15b7-4ba2-a69f-7f792ab5b112",
   "metadata": {},
   "outputs": [
    {
     "name": "stdout",
     "output_type": "stream",
     "text": [
      "1\n",
      "3\n",
      "6\n",
      "10\n",
      "15\n"
     ]
    }
   ],
   "source": [
    "\"\"\"\n",
    "accumulate() - It'll terminate on the shortest input sequence.\n",
    "It returns an accumulated sum of the sequences in the iterable.\n",
    "It takes 2 arguments: interable, function; if no function is provided, it'll use the addition function.\n",
    "\"\"\"\n",
    "a = [1, 2, 3, 4, 5]\n",
    "b = accumulate(a)\n",
    "for i in b:\n",
    "    print(i)"
   ]
  },
  {
   "cell_type": "code",
   "execution_count": 23,
   "id": "c554d78d-cd17-49f6-bf24-bbf9db1bba25",
   "metadata": {},
   "outputs": [],
   "source": [
    "import operator"
   ]
  },
  {
   "cell_type": "code",
   "execution_count": 24,
   "id": "b75dcaf9-8529-45cd-a89a-22d6a6e53ad4",
   "metadata": {},
   "outputs": [
    {
     "name": "stdout",
     "output_type": "stream",
     "text": [
      "1\n",
      "2\n",
      "6\n",
      "24\n",
      "120\n"
     ]
    }
   ],
   "source": [
    "c = accumulate(a, operator.mul)\n",
    "for i in c:\n",
    "    print(i)"
   ]
  },
  {
   "cell_type": "code",
   "execution_count": 29,
   "id": "b0d496f5-2f6e-4fd0-9b3d-ffbc46997494",
   "metadata": {},
   "outputs": [
    {
     "name": "stdout",
     "output_type": "stream",
     "text": [
      "1\n",
      "2\n",
      "3\n",
      "4\n",
      "5\n",
      "2\n",
      "3\n",
      "4\n",
      "5\n",
      "6\n",
      "5\n",
      "5\n",
      "5\n",
      "5\n",
      "5\n"
     ]
    }
   ],
   "source": [
    "\"\"\"\n",
    "Make an iterator that returns elements from the first iterable until it is exhausted, then proceeds to the next iterable,\n",
    "until all of the iterables are exhausted. \n",
    "\n",
    "Used for treating consecutive sequences as a single sequence. \n",
    "\"\"\"\n",
    "\n",
    "a = [1, 2, 3, 4, 5]\n",
    "b = [2, 3, 4 ,5, 6]\n",
    "c = [5, 5, 5, 5, 5]\n",
    "d = chain(a, b, c)\n",
    "for i in d:\n",
    "    print(i)"
   ]
  },
  {
   "cell_type": "code",
   "execution_count": 30,
   "id": "d8425226-26fa-47d2-80fb-4b566cbba3ff",
   "metadata": {},
   "outputs": [
    {
     "name": "stdout",
     "output_type": "stream",
     "text": [
      "J\n",
      "u\n",
      "l\n",
      "i\n",
      "o\n",
      "B\n",
      "r\n",
      "i\n",
      "o\n",
      "n\n",
      "e\n",
      "s\n"
     ]
    }
   ],
   "source": [
    "name = \"Julio\"\n",
    "lastname = \"Briones\"\n",
    "c = chain(name, lastname)\n",
    "for i in c:\n",
    "    print(i)"
   ]
  },
  {
   "cell_type": "code",
   "execution_count": 31,
   "id": "2ec50596-0d5f-47b4-b340-b3894032839a",
   "metadata": {},
   "outputs": [
    {
     "name": "stdout",
     "output_type": "stream",
     "text": [
      "('C', 'h')\n",
      "('C', 'a')\n",
      "('C', 'r')\n",
      "('C', 'b')\n",
      "('C', 'e')\n",
      "('C', 'l')\n",
      "('C', 'i')\n",
      "('C', 't')\n",
      "('C', 'o')\n",
      "('h', 'a')\n",
      "('h', 'r')\n",
      "('h', 'b')\n",
      "('h', 'e')\n",
      "('h', 'l')\n",
      "('h', 'i')\n",
      "('h', 't')\n",
      "('h', 'o')\n",
      "('a', 'r')\n",
      "('a', 'b')\n",
      "('a', 'e')\n",
      "('a', 'l')\n",
      "('a', 'i')\n",
      "('a', 't')\n",
      "('a', 'o')\n",
      "('r', 'b')\n",
      "('r', 'e')\n",
      "('r', 'l')\n",
      "('r', 'i')\n",
      "('r', 't')\n",
      "('r', 'o')\n",
      "('b', 'e')\n",
      "('b', 'l')\n",
      "('b', 'i')\n",
      "('b', 't')\n",
      "('b', 'o')\n",
      "('e', 'l')\n",
      "('e', 'i')\n",
      "('e', 't')\n",
      "('e', 'o')\n",
      "('l', 'i')\n",
      "('l', 't')\n",
      "('l', 'o')\n",
      "('i', 't')\n",
      "('i', 'o')\n",
      "('t', 'o')\n"
     ]
    }
   ],
   "source": [
    "\"\"\"\n",
    "itertools.combinations(iterable, r)\n",
    "    Return r length subsequences of elements from the input iterable.\n",
    "\n",
    "    The combination tuples are emitted in lexicographic ordering according to the order of the input iterable. So, if the input iterable is sorted, the combination tuples will be produced in sorted order.\n",
    "\n",
    "    Elements are treated as unique based on their position, not on their value. So if the input elements are unique, there will be no repeat values in each combination.\n",
    "\"\"\"\n",
    "name = \"Charbelito\"\n",
    "lastname = \"Briones\"\n",
    "c = combinations(name, 2)\n",
    "for i in c:\n",
    "    print(i)"
   ]
  },
  {
   "cell_type": "code",
   "execution_count": 33,
   "id": "e637b377-9098-407d-af2d-3f2c3b49fd96",
   "metadata": {},
   "outputs": [
    {
     "name": "stdout",
     "output_type": "stream",
     "text": [
      "('a', 'b', 'c', '1', '2')\n",
      "('a', 'b', 'c', '1', '3')\n",
      "('a', 'b', 'c', '1', '&')\n",
      "('a', 'b', 'c', '1', '4')\n",
      "('a', 'b', 'c', '1', '/')\n",
      "('a', 'b', 'c', '2', '3')\n",
      "('a', 'b', 'c', '2', '&')\n",
      "('a', 'b', 'c', '2', '4')\n",
      "('a', 'b', 'c', '2', '/')\n",
      "('a', 'b', 'c', '3', '&')\n",
      "('a', 'b', 'c', '3', '4')\n",
      "('a', 'b', 'c', '3', '/')\n",
      "('a', 'b', 'c', '&', '4')\n",
      "('a', 'b', 'c', '&', '/')\n",
      "('a', 'b', 'c', '4', '/')\n",
      "('a', 'b', '1', '2', '3')\n",
      "('a', 'b', '1', '2', '&')\n",
      "('a', 'b', '1', '2', '4')\n",
      "('a', 'b', '1', '2', '/')\n",
      "('a', 'b', '1', '3', '&')\n",
      "('a', 'b', '1', '3', '4')\n",
      "('a', 'b', '1', '3', '/')\n",
      "('a', 'b', '1', '&', '4')\n",
      "('a', 'b', '1', '&', '/')\n",
      "('a', 'b', '1', '4', '/')\n",
      "('a', 'b', '2', '3', '&')\n",
      "('a', 'b', '2', '3', '4')\n",
      "('a', 'b', '2', '3', '/')\n",
      "('a', 'b', '2', '&', '4')\n",
      "('a', 'b', '2', '&', '/')\n",
      "('a', 'b', '2', '4', '/')\n",
      "('a', 'b', '3', '&', '4')\n",
      "('a', 'b', '3', '&', '/')\n",
      "('a', 'b', '3', '4', '/')\n",
      "('a', 'b', '&', '4', '/')\n",
      "('a', 'c', '1', '2', '3')\n",
      "('a', 'c', '1', '2', '&')\n",
      "('a', 'c', '1', '2', '4')\n",
      "('a', 'c', '1', '2', '/')\n",
      "('a', 'c', '1', '3', '&')\n",
      "('a', 'c', '1', '3', '4')\n",
      "('a', 'c', '1', '3', '/')\n",
      "('a', 'c', '1', '&', '4')\n",
      "('a', 'c', '1', '&', '/')\n",
      "('a', 'c', '1', '4', '/')\n",
      "('a', 'c', '2', '3', '&')\n",
      "('a', 'c', '2', '3', '4')\n",
      "('a', 'c', '2', '3', '/')\n",
      "('a', 'c', '2', '&', '4')\n",
      "('a', 'c', '2', '&', '/')\n",
      "('a', 'c', '2', '4', '/')\n",
      "('a', 'c', '3', '&', '4')\n",
      "('a', 'c', '3', '&', '/')\n",
      "('a', 'c', '3', '4', '/')\n",
      "('a', 'c', '&', '4', '/')\n",
      "('a', '1', '2', '3', '&')\n",
      "('a', '1', '2', '3', '4')\n",
      "('a', '1', '2', '3', '/')\n",
      "('a', '1', '2', '&', '4')\n",
      "('a', '1', '2', '&', '/')\n",
      "('a', '1', '2', '4', '/')\n",
      "('a', '1', '3', '&', '4')\n",
      "('a', '1', '3', '&', '/')\n",
      "('a', '1', '3', '4', '/')\n",
      "('a', '1', '&', '4', '/')\n",
      "('a', '2', '3', '&', '4')\n",
      "('a', '2', '3', '&', '/')\n",
      "('a', '2', '3', '4', '/')\n",
      "('a', '2', '&', '4', '/')\n",
      "('a', '3', '&', '4', '/')\n",
      "('b', 'c', '1', '2', '3')\n",
      "('b', 'c', '1', '2', '&')\n",
      "('b', 'c', '1', '2', '4')\n",
      "('b', 'c', '1', '2', '/')\n",
      "('b', 'c', '1', '3', '&')\n",
      "('b', 'c', '1', '3', '4')\n",
      "('b', 'c', '1', '3', '/')\n",
      "('b', 'c', '1', '&', '4')\n",
      "('b', 'c', '1', '&', '/')\n",
      "('b', 'c', '1', '4', '/')\n",
      "('b', 'c', '2', '3', '&')\n",
      "('b', 'c', '2', '3', '4')\n",
      "('b', 'c', '2', '3', '/')\n",
      "('b', 'c', '2', '&', '4')\n",
      "('b', 'c', '2', '&', '/')\n",
      "('b', 'c', '2', '4', '/')\n",
      "('b', 'c', '3', '&', '4')\n",
      "('b', 'c', '3', '&', '/')\n",
      "('b', 'c', '3', '4', '/')\n",
      "('b', 'c', '&', '4', '/')\n",
      "('b', '1', '2', '3', '&')\n",
      "('b', '1', '2', '3', '4')\n",
      "('b', '1', '2', '3', '/')\n",
      "('b', '1', '2', '&', '4')\n",
      "('b', '1', '2', '&', '/')\n",
      "('b', '1', '2', '4', '/')\n",
      "('b', '1', '3', '&', '4')\n",
      "('b', '1', '3', '&', '/')\n",
      "('b', '1', '3', '4', '/')\n",
      "('b', '1', '&', '4', '/')\n",
      "('b', '2', '3', '&', '4')\n",
      "('b', '2', '3', '&', '/')\n",
      "('b', '2', '3', '4', '/')\n",
      "('b', '2', '&', '4', '/')\n",
      "('b', '3', '&', '4', '/')\n",
      "('c', '1', '2', '3', '&')\n",
      "('c', '1', '2', '3', '4')\n",
      "('c', '1', '2', '3', '/')\n",
      "('c', '1', '2', '&', '4')\n",
      "('c', '1', '2', '&', '/')\n",
      "('c', '1', '2', '4', '/')\n",
      "('c', '1', '3', '&', '4')\n",
      "('c', '1', '3', '&', '/')\n",
      "('c', '1', '3', '4', '/')\n",
      "('c', '1', '&', '4', '/')\n",
      "('c', '2', '3', '&', '4')\n",
      "('c', '2', '3', '&', '/')\n",
      "('c', '2', '3', '4', '/')\n",
      "('c', '2', '&', '4', '/')\n",
      "('c', '3', '&', '4', '/')\n",
      "('1', '2', '3', '&', '4')\n",
      "('1', '2', '3', '&', '/')\n",
      "('1', '2', '3', '4', '/')\n",
      "('1', '2', '&', '4', '/')\n",
      "('1', '3', '&', '4', '/')\n",
      "('2', '3', '&', '4', '/')\n"
     ]
    }
   ],
   "source": [
    "input_string = \"abc123&4/\"\n",
    "c = combinations(input_string, 5)\n",
    "for i in c:\n",
    "    print(i)"
   ]
  },
  {
   "cell_type": "code",
   "execution_count": 39,
   "id": "86cb0b90-6d2d-4f8e-b2be-82c0aaaea73f",
   "metadata": {},
   "outputs": [
    {
     "name": "stdout",
     "output_type": "stream",
     "text": [
      "(0, 1, 2)\n",
      "(0, 1, 3)\n",
      "(0, 2, 3)\n",
      "(1, 2, 3)\n"
     ]
    }
   ],
   "source": [
    "d = combinations(range(4), 3)\n",
    "for i in d:\n",
    "    print(i)"
   ]
  },
  {
   "cell_type": "code",
   "execution_count": 43,
   "id": "7c8e0410-6753-43b6-8d5b-63d4b58223b6",
   "metadata": {},
   "outputs": [
    {
     "name": "stdout",
     "output_type": "stream",
     "text": [
      "1\n",
      "3\n",
      "5\n"
     ]
    }
   ],
   "source": [
    "\"\"\"\n",
    "compress()\n",
    "\n",
    "    Make an iterator that filters elements from data returning only those that have a corresponding element in selectors that evaluates to True. \n",
    "    Stops when either the data or selectors iterables has been exhausted.\n",
    "    It uses 2 parameters: selectors, iterables, each item which is false in the selector, it'll be eliminated.\n",
    "\"\"\"\n",
    "a = [1, 2, 3, 4, 5]\n",
    "sel = [1, 0, 1, 0, 1]  # Remember that 0 or False or an empty string is returns false.\n",
    "b = compress(a, sel)\n",
    "for i in b:\n",
    "    print(i)\n"
   ]
  },
  {
   "cell_type": "code",
   "execution_count": 44,
   "id": "32c1801e-55b6-4835-80d9-cbd68f5f922c",
   "metadata": {},
   "outputs": [
    {
     "name": "stdout",
     "output_type": "stream",
     "text": [
      "20\n",
      "25\n",
      "30\n",
      "35\n",
      "40\n",
      "45\n",
      "50\n",
      "55\n",
      "60\n",
      "65\n",
      "70\n",
      "75\n",
      "80\n",
      "85\n",
      "90\n",
      "95\n"
     ]
    }
   ],
   "source": [
    "\"\"\"\n",
    "dropwhile()\n",
    "    Make an iterator that drops elements from the iterable as long as the predicate(function) is true; afterwards, returns every element. \n",
    "    Note, the iterator does not produce any output until the predicate first becomes false, so it may have a lengthy start-up time.\n",
    "\"\"\"\n",
    "a = list(range(0, 100, 5))\n",
    "b = dropwhile(lambda x: x < 20, a)\n",
    "for i in b:\n",
    "    print(i)"
   ]
  },
  {
   "cell_type": "code",
   "execution_count": 45,
   "id": "82601d26-f006-4d60-a16f-995726f48d2c",
   "metadata": {},
   "outputs": [
    {
     "name": "stdout",
     "output_type": "stream",
     "text": [
      "20\n",
      "25\n",
      "30\n",
      "35\n",
      "40\n",
      "45\n",
      "50\n",
      "55\n",
      "60\n",
      "65\n",
      "70\n",
      "75\n",
      "80\n",
      "85\n",
      "90\n",
      "95\n"
     ]
    }
   ],
   "source": [
    "\"\"\"\n",
    "filterfalse()\n",
    "    Make an iterator that filters elements from iterable returning only those for which the predicate is False. \n",
    "    If predicate is None, return the items that are false.\n",
    "\"\"\"\n",
    "# We can get the same result as in the previous example with dropwhile()\n",
    "b = filterfalse(lambda x: x < 20, a)\n",
    "for i in b:\n",
    "    print(i)"
   ]
  },
  {
   "cell_type": "code",
   "execution_count": null,
   "id": "5e614109-86bc-4f11-8748-b8fb41a73bd5",
   "metadata": {},
   "outputs": [],
   "source": []
  }
 ],
 "metadata": {
  "kernelspec": {
   "display_name": "Python 3 (ipykernel)",
   "language": "python",
   "name": "python3"
  },
  "language_info": {
   "codemirror_mode": {
    "name": "ipython",
    "version": 3
   },
   "file_extension": ".py",
   "mimetype": "text/x-python",
   "name": "python",
   "nbconvert_exporter": "python",
   "pygments_lexer": "ipython3",
   "version": "3.10.4"
  }
 },
 "nbformat": 4,
 "nbformat_minor": 5
}
